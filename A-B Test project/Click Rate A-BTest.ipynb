{
 "cells": [
  {
   "cell_type": "markdown",
   "id": "0b6ae3a3",
   "metadata": {},
   "source": [
    "## Data cleaning and Overiew"
   ]
  },
  {
   "cell_type": "code",
   "execution_count": 19,
   "id": "08513458",
   "metadata": {},
   "outputs": [],
   "source": [
    "import numpy as np\n",
    "import pandas as pd \n",
    "from scipy.stats import shapiro\n",
    "import matplotlib.pyplot as plt\n"
   ]
  },
  {
   "cell_type": "code",
   "execution_count": 3,
   "id": "20e28ce0",
   "metadata": {},
   "outputs": [
    {
     "data": {
      "text/html": [
       "<div>\n",
       "<style scoped>\n",
       "    .dataframe tbody tr th:only-of-type {\n",
       "        vertical-align: middle;\n",
       "    }\n",
       "\n",
       "    .dataframe tbody tr th {\n",
       "        vertical-align: top;\n",
       "    }\n",
       "\n",
       "    .dataframe thead th {\n",
       "        text-align: right;\n",
       "    }\n",
       "</style>\n",
       "<table border=\"1\" class=\"dataframe\">\n",
       "  <thead>\n",
       "    <tr style=\"text-align: right;\">\n",
       "      <th></th>\n",
       "      <th>user_id</th>\n",
       "      <th>group</th>\n",
       "      <th>views</th>\n",
       "      <th>clicks</th>\n",
       "    </tr>\n",
       "  </thead>\n",
       "  <tbody>\n",
       "    <tr>\n",
       "      <th>0</th>\n",
       "      <td>1</td>\n",
       "      <td>control</td>\n",
       "      <td>10.0</td>\n",
       "      <td>0.0</td>\n",
       "    </tr>\n",
       "    <tr>\n",
       "      <th>1</th>\n",
       "      <td>2</td>\n",
       "      <td>control</td>\n",
       "      <td>1.0</td>\n",
       "      <td>0.0</td>\n",
       "    </tr>\n",
       "    <tr>\n",
       "      <th>2</th>\n",
       "      <td>3</td>\n",
       "      <td>control</td>\n",
       "      <td>1.0</td>\n",
       "      <td>0.0</td>\n",
       "    </tr>\n",
       "    <tr>\n",
       "      <th>3</th>\n",
       "      <td>4</td>\n",
       "      <td>control</td>\n",
       "      <td>2.0</td>\n",
       "      <td>0.0</td>\n",
       "    </tr>\n",
       "    <tr>\n",
       "      <th>4</th>\n",
       "      <td>5</td>\n",
       "      <td>control</td>\n",
       "      <td>3.0</td>\n",
       "      <td>0.0</td>\n",
       "    </tr>\n",
       "  </tbody>\n",
       "</table>\n",
       "</div>"
      ],
      "text/plain": [
       "   user_id    group  views  clicks\n",
       "0        1  control   10.0     0.0\n",
       "1        2  control    1.0     0.0\n",
       "2        3  control    1.0     0.0\n",
       "3        4  control    2.0     0.0\n",
       "4        5  control    3.0     0.0"
      ]
     },
     "execution_count": 3,
     "metadata": {},
     "output_type": "execute_result"
    }
   ],
   "source": [
    "data = pd.read_csv('C:/Users/WEI/Desktop/数分面试与项目/ab_test_results.csv')\n",
    "data.head()"
   ]
  },
  {
   "cell_type": "code",
   "execution_count": 5,
   "id": "02ca00e7",
   "metadata": {},
   "outputs": [
    {
     "name": "stdout",
     "output_type": "stream",
     "text": [
      "<class 'pandas.core.frame.DataFrame'>\n",
      "RangeIndex: 120000 entries, 0 to 119999\n",
      "Data columns (total 4 columns):\n",
      " #   Column   Non-Null Count   Dtype  \n",
      "---  ------   --------------   -----  \n",
      " 0   user_id  120000 non-null  int64  \n",
      " 1   group    120000 non-null  object \n",
      " 2   views    120000 non-null  float64\n",
      " 3   clicks   120000 non-null  float64\n",
      "dtypes: float64(2), int64(1), object(1)\n",
      "memory usage: 3.7+ MB\n"
     ]
    }
   ],
   "source": [
    "data.info() # for missing value"
   ]
  },
  {
   "cell_type": "code",
   "execution_count": 6,
   "id": "1bbbf189",
   "metadata": {},
   "outputs": [
    {
     "data": {
      "text/html": [
       "<div>\n",
       "<style scoped>\n",
       "    .dataframe tbody tr th:only-of-type {\n",
       "        vertical-align: middle;\n",
       "    }\n",
       "\n",
       "    .dataframe tbody tr th {\n",
       "        vertical-align: top;\n",
       "    }\n",
       "\n",
       "    .dataframe thead th {\n",
       "        text-align: right;\n",
       "    }\n",
       "</style>\n",
       "<table border=\"1\" class=\"dataframe\">\n",
       "  <thead>\n",
       "    <tr style=\"text-align: right;\">\n",
       "      <th></th>\n",
       "      <th>user_id</th>\n",
       "      <th>group</th>\n",
       "      <th>views</th>\n",
       "      <th>clicks</th>\n",
       "    </tr>\n",
       "  </thead>\n",
       "  <tbody>\n",
       "  </tbody>\n",
       "</table>\n",
       "</div>"
      ],
      "text/plain": [
       "Empty DataFrame\n",
       "Columns: [user_id, group, views, clicks]\n",
       "Index: []"
      ]
     },
     "execution_count": 6,
     "metadata": {},
     "output_type": "execute_result"
    }
   ],
   "source": [
    "data[data.duplicated()] # showen no duplicated"
   ]
  },
  {
   "cell_type": "code",
   "execution_count": 9,
   "id": "79e2ab54",
   "metadata": {},
   "outputs": [
    {
     "data": {
      "text/plain": [
       "control    60000\n",
       "test       60000\n",
       "Name: group, dtype: int64"
      ]
     },
     "execution_count": 9,
     "metadata": {},
     "output_type": "execute_result"
    }
   ],
   "source": [
    "data['group'].value_counts() # counr for data from control/test group"
   ]
  },
  {
   "cell_type": "markdown",
   "id": "8ca0bb31",
   "metadata": {},
   "source": [
    "## Calculate the click rate"
   ]
  },
  {
   "cell_type": "markdown",
   "id": "29bbbe21",
   "metadata": {},
   "source": [
    "Formulate: click rate = (click) / (aggregate views)"
   ]
  },
  {
   "cell_type": "code",
   "execution_count": 17,
   "id": "36d6242b",
   "metadata": {},
   "outputs": [],
   "source": [
    "test_group = data[data['group']=='test'].sum() # sum of test group\n",
    "ctrl_group = data[data['group']=='control'].sum() # ctrl group"
   ]
  },
  {
   "cell_type": "code",
   "execution_count": 39,
   "id": "995f234c",
   "metadata": {},
   "outputs": [
    {
     "name": "stdout",
     "output_type": "stream",
     "text": [
      "test_click_rate: 3.8504233146113953\n",
      "ctrl_click_rate 3.4673424332983336\n"
     ]
    }
   ],
   "source": [
    "test_click_rate = test_group['clicks']/test_group['views']* 100 # click rate percentage\n",
    "ctrl_click_rate = ctrl_group['clicks']/ctrl_group['views']* 100\n",
    "print('test_click_rate:' , test_click_rate)\n",
    "print('ctrl_click_rate' , ctrl_click_rate)"
   ]
  },
  {
   "cell_type": "markdown",
   "id": "c258ecb2",
   "metadata": {},
   "source": [
    "It is easy find that the test_click_rate is higher than ctrl_click_rate in 0.4 percentage.But we can not say that these two have significent difference.\n",
    "So we further need to use hypothesis test to confirm."
   ]
  },
  {
   "cell_type": "markdown",
   "id": "3791556c",
   "metadata": {},
   "source": [
    "## How to choose proper statistical methods"
   ]
  },
  {
   "cell_type": "markdown",
   "id": "3033d686",
   "metadata": {},
   "source": [
    "In A/B test, there are several hypothesis test methods below\n",
    "\n",
    "·**Z-test**: when the sample size is large(normaly over 30) and the population standard deviation is known, we can use Z-test\n",
    "\n",
    "·**t-test**: when the sample size is small(normaly less than 30) or the population standard deviation is unknown, we can use t-test\n",
    "\n",
    "·**Mann-Whitney U test**: When data doesn't meet the normal distribution assumption, we can use Mann-Whitney U test to test if the median of the two sample have significant difference.  Specifically, the Mann-Whitney U test is a non parametric test method. This method does not need require the assumption of normal distribution of the data, so it is suitable for various types of data.\n",
    "\n",
    "·**Welch's t test**: Similar to t-test, but is allows two sample have different variances.\n",
    "\n",
    "·**Kolmogorov-Smironv test**: used to compare whether the distribution function of two samples are the same, which is valid for non-parametric distribution test.\n",
    "\n",
    "·**Chi-square test**; Used to compare whether the category varible has the same distribution, suitable for count data and category data.\n",
    "\n",
    "· **McNemar test**: Used to compare whether the distribution of categorical variables is the same for related samples or paired samples.\n"
   ]
  },
  {
   "cell_type": "markdown",
   "id": "66735694",
   "metadata": {},
   "source": [
    "In this project, the data is large(larger than 30),the standard deviation can be calculated, but we do not know whether is meet the assumption of normal distribution. SO **Z- test** and **Whitney U test** all can be used. \n",
    "\n",
    "We are going to introduce this two test methods:"
   ]
  },
  {
   "cell_type": "code",
   "execution_count": 43,
   "id": "81a1f03c",
   "metadata": {},
   "outputs": [],
   "source": [
    "# get clicks columns of test and control group\n",
    "test_data = data.loc[data['group'] == 'test','clicks' ]\n",
    "ctrl_data = data.loc[data['group'] == 'control','clicks']"
   ]
  },
  {
   "cell_type": "markdown",
   "id": "593a6566",
   "metadata": {},
   "source": [
    "## Z-test"
   ]
  },
  {
   "cell_type": "markdown",
   "id": "d36006ae",
   "metadata": {},
   "source": [
    "H0: ctrl group and test group do not have significant difference\n",
    "\n",
    "H1: ctrl group and test group have significant difference\n"
   ]
  },
  {
   "cell_type": "code",
   "execution_count": 57,
   "id": "bc893efc",
   "metadata": {},
   "outputs": [
    {
     "name": "stdout",
     "output_type": "stream",
     "text": [
      "test group mean:0.1937，std:0.4903\n",
      "ctrl group mean:0.1717，std:0.4538\n",
      "z-score:8.0476, p-value;0.0000\n"
     ]
    }
   ],
   "source": [
    "from scipy import stats \n",
    "# mean and std\n",
    "mean1, mean2 = np.mean(test_data),np.mean(ctrl_data)\n",
    "std1, std2 = np.std(test_data,ddof= 1), np.std(ctrl_data, ddof= 1)\n",
    "# Z-score and p-value\n",
    "z_score, p_value = stats.ttest_ind(test_data, ctrl_data, equal_var= True)\n",
    "# result\n",
    "print(f\"test group mean:{mean1:.4f}，std:{std1:.4f}\")\n",
    "print(f\"ctrl group mean:{mean2:.4f}，std:{std2:.4f}\")\n",
    "print(f\"z-score:{z_score:.4f}, p-value;{p_value:.4f}\")\n"
   ]
  },
  {
   "cell_type": "markdown",
   "id": "2fed6777",
   "metadata": {},
   "source": [
    "p-value is less than 0.05, so the click rate between test and ctrl group have significant."
   ]
  },
  {
   "cell_type": "markdown",
   "id": "c5813be6",
   "metadata": {},
   "source": [
    "## Mann-Whitney U"
   ]
  },
  {
   "cell_type": "markdown",
   "id": "389962eb",
   "metadata": {},
   "source": [
    "Firstly, we need to judge whether the data meet normality test. If not, we can use the Mann-Whitney U."
   ]
  },
  {
   "cell_type": "markdown",
   "id": "3c27b72f",
   "metadata": {},
   "source": [
    "**H0**: The data conforms to the assumption of normality.\n",
    "\n",
    "**H1**: The data do not conform to the assumption of normality."
   ]
  },
  {
   "cell_type": "markdown",
   "id": "3a29d151",
   "metadata": {},
   "source": [
    "There are two general method to conduct a normality test on the data."
   ]
  },
  {
   "cell_type": "markdown",
   "id": "806de944",
   "metadata": {},
   "source": [
    "### Shapiro-Wilk Normality Test"
   ]
  },
  {
   "cell_type": "code",
   "execution_count": 58,
   "id": "4e697d61",
   "metadata": {},
   "outputs": [],
   "source": [
    "# shapiro() function, \n",
    "# return two value:  \"statistic W and p-value.\""
   ]
  },
  {
   "cell_type": "code",
   "execution_count": 62,
   "id": "6c79d336",
   "metadata": {},
   "outputs": [
    {
     "name": "stdout",
     "output_type": "stream",
     "text": [
      "test_group\n",
      "Statistic W: 0.43864309787750244\n",
      "p-value: 0.0\n",
      "ctrl_group\n",
      "Statistic W: 0.41856634616851807\n",
      "p-value: 0.0\n"
     ]
    },
    {
     "name": "stderr",
     "output_type": "stream",
     "text": [
      "C:\\Users\\WEI\\anaconda3\\lib\\site-packages\\scipy\\stats\\_morestats.py:1800: UserWarning: p-value may not be accurate for N > 5000.\n",
      "  warnings.warn(\"p-value may not be accurate for N > 5000.\")\n"
     ]
    }
   ],
   "source": [
    "from scipy.stats import shapiro\n",
    "W,p_value = shapiro(test_data)\n",
    "print('test_group')\n",
    "print(\"Statistic W:\", W)\n",
    "print(\"p-value:\", p_value)\n",
    "\n",
    "W, p_value = shapiro(ctrl_data)\n",
    "print('ctrl_group')\n",
    "print(\"Statistic W:\", W)\n",
    "print(\"p-value:\", p_value)"
   ]
  },
  {
   "cell_type": "code",
   "execution_count": 64,
   "id": "3b6c838e",
   "metadata": {},
   "outputs": [
    {
     "name": "stdout",
     "output_type": "stream",
     "text": [
      "test_group\n",
      "statistic D: 15253.934731520058\n",
      "critical value: [0.576 0.656 0.787 0.918 1.092]\n",
      "significant level: [15.  10.   5.   2.5  1. ]\n",
      "ctrl_group\n",
      "statisic D: 16077.556844314357\n",
      "critical value: [0.576 0.656 0.787 0.918 1.092]\n",
      "significant level: [15.  10.   5.   2.5  1. ]\n"
     ]
    }
   ],
   "source": [
    "from scipy.stats import anderson\n",
    "result = anderson(test_data)\n",
    "print('test_group')\n",
    "print(\"statistic D:\", result.statistic)\n",
    "print(\"critical value:\", result.critical_values)\n",
    "print(\"significant level:\", result.significance_level)\n",
    "result = anderson(ctrl_data)\n",
    "print('ctrl_group')\n",
    "print(\"statisic D:\", result.statistic)\n",
    "print(\"critical value:\", result.critical_values)\n",
    "print(\"significant level:\", result.significance_level)"
   ]
  },
  {
   "cell_type": "markdown",
   "id": "b86fb8fa",
   "metadata": {},
   "source": [
    "The corresponding significance levels are [15, 10, 5, 2.5, 1]. This means that at the 15%, 10%, 5%, 2.5% and 1% significance levels, for non-normally distributed data, the statistic D of the Anderson-Darling normality test needs to exceed the corresponding critical value to reject the null hypothesis.\n",
    "\n",
    "Combining the results of the above two methods, it can be seen that the data does not meet the normality test, so the null hypothesis **can be rejected**, that is, the data **does not meet the normal distribution**."
   ]
  },
  {
   "cell_type": "markdown",
   "id": "cb32fd4f",
   "metadata": {},
   "source": [
    "## Mann-Whitney U Test"
   ]
  },
  {
   "cell_type": "markdown",
   "id": "3a83d8b4",
   "metadata": {},
   "source": [
    "So we can choose Mann-Whitney U test, to test if the click rate of these two group have significant difference."
   ]
  },
  {
   "cell_type": "markdown",
   "id": "bb5ffc5e",
   "metadata": {},
   "source": [
    "**H0**: ctrl_group and test_group do not have significant difference\n",
    "\n",
    "**H1**: ctrl_group and test_group have significant difference"
   ]
  },
  {
   "cell_type": "code",
   "execution_count": 65,
   "id": "4965e1bf",
   "metadata": {},
   "outputs": [
    {
     "name": "stdout",
     "output_type": "stream",
     "text": [
      "Statistic: 1827378002.0\n",
      "p-value: 3.362997071095112e-13\n"
     ]
    }
   ],
   "source": [
    "from scipy.stats import mannwhitneyu\n",
    "statistic, p_value = mannwhitneyu(test_data,ctrl_data)\n",
    "print(\"Statistic:\", statistic)\n",
    "print(\"p-value:\", p_value)"
   ]
  },
  {
   "cell_type": "markdown",
   "id": "5b474f86",
   "metadata": {},
   "source": [
    "Since p < 0.05, there is significant difference between test and ctrl group."
   ]
  }
 ],
 "metadata": {
  "kernelspec": {
   "display_name": "Python 3 (ipykernel)",
   "language": "python",
   "name": "python3"
  },
  "language_info": {
   "codemirror_mode": {
    "name": "ipython",
    "version": 3
   },
   "file_extension": ".py",
   "mimetype": "text/x-python",
   "name": "python",
   "nbconvert_exporter": "python",
   "pygments_lexer": "ipython3",
   "version": "3.9.13"
  }
 },
 "nbformat": 4,
 "nbformat_minor": 5
}
